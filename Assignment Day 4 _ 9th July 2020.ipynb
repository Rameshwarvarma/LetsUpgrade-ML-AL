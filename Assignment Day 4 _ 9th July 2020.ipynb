{
 "cells": [
  {
   "cell_type": "code",
   "execution_count": 26,
   "metadata": {},
   "outputs": [
    {
     "name": "stdout",
     "output_type": "stream",
     "text": [
      "[8, 10]\n"
     ]
    }
   ],
   "source": [
    "a = 10 + 2j\n",
    "b = 30 + 4j\n",
    "\n",
    "#addition operation:\n",
    "c = a+b\n",
    "print(c)\n",
    "\n",
    "#subtraction operator:\n",
    "d = a-b\n",
    "print(d)\n",
    "\n",
    "#multiplication operator:\n",
    "e = a*b\n",
    "print(e)\n",
    "\n",
    "#Division operator:\n",
    "f = a/b\n",
    "print(f)\n",
    "\n",
    "# We cannot able to perform Modulo and floor division operation on complex numbers.."
   ]
  },
  {
   "cell_type": "markdown",
   "metadata": {},
   "source": [
    "range() takes mainly three arguments having the same use in both definitions:\n",
    "\n",
    "   start - integer starting from which the sequence of integers is to be returned\n",
    "   stop - integer before which the sequence of integers is to be returned.\n",
    "   The range of integers end at stop - 1.\n",
    "   step (Optional) - integer value which determines the increment between each integer in the sequence\n",
    "   \n",
    " ### empty range\n",
    "print(list(range(0)))\n",
    "\n",
    "### using range(stop)\n",
    "print(list(range(10)))\n",
    "\n",
    "### using range(start, stop)\n",
    "print(list(range(1, 10)))"
   ]
  },
  {
   "cell_type": "code",
   "execution_count": null,
   "metadata": {},
   "outputs": [],
   "source": [
    "#Consider two numbers. Perform their subtraction and if the result of subtraction is greater than 25, print their multiplication result else print their division result.\n",
    "\n",
    "a = int(input(\"Enter the first number: \"))\n",
    "b = int(input(\"Enter the Second number: \"))\n",
    "\n",
    "c = a - b\n",
    "\n",
    "if c > 25:\n",
    "    print(\"Multiplication Result is : \",a * b)\n",
    "else:\n",
    "    print(\"Division Result is : \",a/b)"
   ]
  },
  {
   "cell_type": "code",
   "execution_count": null,
   "metadata": {},
   "outputs": [],
   "source": [
    "#Consider a list of 10 elements of integer values. If the number in the list is divisible by 2, print the result as \"square of that number minus 2\"\n",
    "\n",
    "list = []\n",
    "for i in range(1,11):\n",
    "    if i % 2 == 0:\n",
    "        list.append(i)\n",
    "        print(\"square of that number minus 2\")\n",
    "print(list)"
   ]
  },
  {
   "cell_type": "code",
   "execution_count": null,
   "metadata": {},
   "outputs": [],
   "source": [
    "#Consider a list of 10 elements. Print all the elements in the list which are greater than 7 when that number is divided 2.\n",
    "\n",
    "\n",
    "num = []\n",
    "for i in range(1,11):\n",
    "    if i > 7 and i % 2 == 0:\n",
    "        num.append(i)\n",
    "print(num)"
   ]
  },
  {
   "cell_type": "code",
   "execution_count": null,
   "metadata": {},
   "outputs": [],
   "source": []
  }
 ],
 "metadata": {
  "kernelspec": {
   "display_name": "Python 3",
   "language": "python",
   "name": "python3"
  },
  "language_info": {
   "codemirror_mode": {
    "name": "ipython",
    "version": 3
   },
   "file_extension": ".py",
   "mimetype": "text/x-python",
   "name": "python",
   "nbconvert_exporter": "python",
   "pygments_lexer": "ipython3",
   "version": "3.6.10"
  }
 },
 "nbformat": 4,
 "nbformat_minor": 4
}
