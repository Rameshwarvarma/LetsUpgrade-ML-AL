{
 "cells": [
  {
   "cell_type": "code",
   "execution_count": 3,
   "metadata": {},
   "outputs": [
    {
     "name": "stdout",
     "output_type": "stream",
     "text": [
      "Enter first number: 87+2j\n",
      "Enter second number: 23+3j\n",
      "(64-1j)\n"
     ]
    }
   ],
   "source": [
    "#Write a program to subtract two complex numbers in Python.\n",
    "a = complex(input(\"Enter first number: \"))\n",
    "b = complex(input(\"Enter second number: \"))\n",
    "c = a - b\n",
    "print(c)"
   ]
  },
  {
   "cell_type": "code",
   "execution_count": 4,
   "metadata": {},
   "outputs": [
    {
     "name": "stdout",
     "output_type": "stream",
     "text": [
      "Enter the number: 23\n",
      "2.189938703094842\n"
     ]
    }
   ],
   "source": [
    "#Write a program to find the fourth root of a number.\n",
    "a = int(input(\"Enter the number: \"))\n",
    "b = a ** 0.25 # To find fourth root\n",
    "print(b)"
   ]
  },
  {
   "cell_type": "code",
   "execution_count": 9,
   "metadata": {},
   "outputs": [
    {
     "name": "stdout",
     "output_type": "stream",
     "text": [
      "Enter the first number: 21\n",
      "Enter the second number: 22\n",
      "22 21\n"
     ]
    }
   ],
   "source": [
    "# Write a program to swap two numbers in Python with the help of a temporary variable.\n",
    "a = int(input(\"Enter the first number: \"))\n",
    "b = int(input(\"Enter the second number: \"))\n",
    "temp = b\n",
    "b = a\n",
    "a = temp\n",
    "print(a,b)"
   ]
  },
  {
   "cell_type": "code",
   "execution_count": 10,
   "metadata": {},
   "outputs": [
    {
     "name": "stdout",
     "output_type": "stream",
     "text": [
      "Enter the first number: 21\n",
      "Enter the second number: 11\n",
      "11 21\n"
     ]
    }
   ],
   "source": [
    "#Write a program to swap two numbers in Python without using a temporary variable\n",
    "x = int(input(\"Enter the first number: \"))\n",
    "y = int(input(\"Enter the second number: \"))\n",
    "x,y = y,x\n",
    "print(x,y)"
   ]
  },
  {
   "cell_type": "code",
   "execution_count": 14,
   "metadata": {},
   "outputs": [
    {
     "name": "stdout",
     "output_type": "stream",
     "text": [
      "Enter the temperature in fahrenheit: 98\n",
      "98.00 fahrenheit is 36.67 celsius\n",
      "98.00 fahrenheit is 309.82 kelvin\n"
     ]
    }
   ],
   "source": [
    "#Write a program to convert fahrenheit to kelvin and celsius both\n",
    "fahrenheit = float(input(\"Enter the temperature in fahrenheit: \"))\n",
    "celsius = (fahrenheit - 32) * 5/9\n",
    "kelvin = (fahrenheit - 32) * 5/9 + 273.15\n",
    "print(\"%.2f fahrenheit is %.2f celsius\"%(fahrenheit,celsius))\n",
    "print(\"%.2f fahrenheit is %.2f kelvin\"%(fahrenheit,kelvin))"
   ]
  },
  {
   "cell_type": "code",
   "execution_count": 19,
   "metadata": {},
   "outputs": [
    {
     "data": {
      "text/plain": [
       "dict"
      ]
     },
     "execution_count": 19,
     "metadata": {},
     "output_type": "execute_result"
    }
   ],
   "source": [
    "#Write a program to demonstrate all the available data types in Python. Hint: Use type() function\n",
    "a = 23\n",
    "type(a)\n",
    "b = 23.09\n",
    "type(b)\n",
    "c = 'Hi All good morning'\n",
    "type(c)\n",
    "d = 2+3j\n",
    "type(d)\n",
    "e = (0,9)\n",
    "type(e)\n",
    "f = [1,2,3]\n",
    "type(f)\n",
    "g = {1,2,3}\n",
    "type(g)\n",
    "h = {1:'hi',2:'hello'}\n",
    "type(h)\n"
   ]
  },
  {
   "cell_type": "markdown",
   "metadata": {},
   "source": [
    "#Create a Markdown cell in jupyter and list the steps discussed in the session by Dr. DarshanIngle sir to create Github profile and upload Githubs Assignment link.\n",
    "\n",
    "1. Open github in google by typing as github and the link as follows 'https://github.com/'\n",
    "2. create github account by clicking on signup tab\n",
    "3. enter the respective details in the portal\n",
    "4. Click on sign in if you already have Github account.\n",
    "5. Click on your profile and create a repositary as public account and rename it as \"LetsUpgrade-ML-AI\"\n",
    "6.  Upload the downloaded .ipynb file to github \"LetsUpgrade-ML-AI\" repository and share the link in google form.\n",
    "\n",
    "# These are the stpes to be followed for creation of github account and for assignments submission.\n",
    "\n",
    "\n"
   ]
  }
 ],
 "metadata": {
  "kernelspec": {
   "display_name": "Python 3",
   "language": "python",
   "name": "python3"
  },
  "language_info": {
   "codemirror_mode": {
    "name": "ipython",
    "version": 3
   },
   "file_extension": ".py",
   "mimetype": "text/x-python",
   "name": "python",
   "nbconvert_exporter": "python",
   "pygments_lexer": "ipython3",
   "version": "3.6.10"
  }
 },
 "nbformat": 4,
 "nbformat_minor": 4
}
